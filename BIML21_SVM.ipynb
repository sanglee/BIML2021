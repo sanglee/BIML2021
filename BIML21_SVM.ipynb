{
  "nbformat": 4,
  "nbformat_minor": 0,
  "metadata": {
    "kernelspec": {
      "display_name": "Python 3",
      "language": "python",
      "name": "python3"
    },
    "language_info": {
      "codemirror_mode": {
        "name": "ipython",
        "version": 3
      },
      "file_extension": ".py",
      "mimetype": "text/x-python",
      "name": "python",
      "nbconvert_exporter": "python",
      "pygments_lexer": "ipython3",
      "version": "3.6.8"
    },
    "toc": {
      "base_numbering": 1,
      "nav_menu": {
        "height": "138px",
        "width": "252px"
      },
      "number_sections": false,
      "sideBar": true,
      "skip_h1_title": false,
      "title_cell": "Table of Contents",
      "title_sidebar": "Contents",
      "toc_cell": false,
      "toc_position": {},
      "toc_section_display": "block",
      "toc_window_display": true
    },
    "varInspector": {
      "cols": {
        "lenName": 16,
        "lenType": 16,
        "lenVar": 40
      },
      "kernels_config": {
        "python": {
          "delete_cmd_postfix": "",
          "delete_cmd_prefix": "del ",
          "library": "var_list.py",
          "varRefreshCmd": "print(var_dic_list())"
        },
        "r": {
          "delete_cmd_postfix": ") ",
          "delete_cmd_prefix": "rm(",
          "library": "var_list.r",
          "varRefreshCmd": "cat(var_dic_list()) "
        }
      },
      "types_to_exclude": [
        "module",
        "function",
        "builtin_function_or_method",
        "instance",
        "_Feature"
      ],
      "window_display": false
    },
    "colab": {
      "name": "BIML21_SVM.ipynb",
      "provenance": [],
      "collapsed_sections": [],
      "include_colab_link": true
    }
  },
  "cells": [
    {
      "cell_type": "markdown",
      "metadata": {
        "id": "view-in-github",
        "colab_type": "text"
      },
      "source": [
        "<a href=\"https://colab.research.google.com/github/sanglee/BIML2021/blob/main/BIML21_SVM.ipynb\" target=\"_parent\"><img src=\"https://colab.research.google.com/assets/colab-badge.svg\" alt=\"Open In Colab\"/></a>"
      ]
    },
    {
      "cell_type": "markdown",
      "metadata": {
        "id": "qwvRk1-3SVs2"
      },
      "source": [
        "## BIML 2021 (Introduction to SVM)\n",
        "\n",
        "@author: Sangkyun Lee  (sangkyun@korea.ac.kr)\n",
        "\n"
      ]
    },
    {
      "cell_type": "markdown",
      "metadata": {
        "id": "JlpGmnp9SVs3"
      },
      "source": [
        "### Supplementary Notes\n",
        "---"
      ]
    },
    {
      "cell_type": "code",
      "metadata": {
        "id": "ZzxZ4e6mSVs3"
      },
      "source": [
        "# A utility function to plot decision boundaries in 2D\n",
        "\n",
        "from matplotlib.colors import ListedColormap\n",
        "\n",
        "\n",
        "def plot_decision_regions(X, y, classifier, test_idx=None, resolution=0.02):\n",
        "\n",
        "    # setup marker generator and color map\n",
        "    markers = ('s', 'x', 'o', '^', 'v')\n",
        "    colors = ('red', 'blue', 'lightgreen', 'gray', 'cyan')\n",
        "    cmap = ListedColormap(colors[:len(np.unique(y))])\n",
        "\n",
        "    # plot the decision surface\n",
        "    x1_min, x1_max = X[:, 0].min() - 1, X[:, 0].max() + 1\n",
        "    x2_min, x2_max = X[:, 1].min() - 1, X[:, 1].max() + 1\n",
        "    xx1, xx2 = np.meshgrid(np.arange(x1_min, x1_max, resolution),\n",
        "                           np.arange(x2_min, x2_max, resolution))\n",
        "    Z = classifier.predict(np.array([xx1.ravel(), xx2.ravel()]).T)\n",
        "    Z = Z.reshape(xx1.shape)\n",
        "    plt.contourf(xx1, xx2, Z, alpha=0.4, cmap=cmap)\n",
        "    plt.xlim(xx1.min(), xx1.max())\n",
        "    plt.ylim(xx2.min(), xx2.max())\n",
        "\n",
        "    for idx, cl in enumerate(np.unique(y)):\n",
        "        plt.scatter(x=X[y == cl, 0], \n",
        "                    y=X[y == cl, 1],\n",
        "                    alpha=0.6, \n",
        "                    c=[cmap(idx)]*sum(y == cl),\n",
        "                    edgecolor='black',\n",
        "                    marker=markers[idx], \n",
        "                    label=cl)\n",
        "\n",
        "    # highlight test samples\n",
        "    if test_idx:\n",
        "        # plot all samples\n",
        "        if not versiontuple(np.__version__) >= versiontuple('1.9.0'):\n",
        "            X_test, y_test = X[list(test_idx), :], y[list(test_idx)]\n",
        "            warnings.warn('Please update to NumPy 1.9.0 or newer')\n",
        "        else:\n",
        "            X_test, y_test = X[test_idx, :], y[test_idx]\n",
        "\n",
        "        plt.scatter(X_test[:, 0],\n",
        "                    X_test[:, 1],\n",
        "                    c='',\n",
        "                    alpha=1.0,\n",
        "                    edgecolor='black',\n",
        "                    linewidths=1,\n",
        "                    marker='o',\n",
        "                    s=55, label='test set')"
      ],
      "execution_count": 2,
      "outputs": []
    },
    {
      "cell_type": "markdown",
      "metadata": {
        "id": "8h_-HYctSVs4"
      },
      "source": [
        "---\n",
        "### Loading the IRIS data"
      ]
    },
    {
      "cell_type": "code",
      "metadata": {
        "id": "4P_8-CUHSVs4"
      },
      "source": [
        "import pandas as pd\n",
        "\n",
        "df = pd.read_csv('https://archive.ics.uci.edu/ml/'\n",
        "        'machine-learning-databases/iris/iris.data', names= ['Sepal Length', 'Sepal Width', 'Petal Length', 'Petal Width', 'Label'])"
      ],
      "execution_count": 3,
      "outputs": []
    },
    {
      "cell_type": "code",
      "metadata": {
        "colab": {
          "base_uri": "https://localhost:8080/",
          "height": 201
        },
        "id": "VYYEshbRSVs4",
        "outputId": "f0505e9a-cd99-464e-bb25-9f7ad520aae3"
      },
      "source": [
        "df.head()"
      ],
      "execution_count": 4,
      "outputs": [
        {
          "output_type": "execute_result",
          "data": {
            "text/html": [
              "<div>\n",
              "<style scoped>\n",
              "    .dataframe tbody tr th:only-of-type {\n",
              "        vertical-align: middle;\n",
              "    }\n",
              "\n",
              "    .dataframe tbody tr th {\n",
              "        vertical-align: top;\n",
              "    }\n",
              "\n",
              "    .dataframe thead th {\n",
              "        text-align: right;\n",
              "    }\n",
              "</style>\n",
              "<table border=\"1\" class=\"dataframe\">\n",
              "  <thead>\n",
              "    <tr style=\"text-align: right;\">\n",
              "      <th></th>\n",
              "      <th>Sepal Length</th>\n",
              "      <th>Sepal Width</th>\n",
              "      <th>Petal Length</th>\n",
              "      <th>Petal Width</th>\n",
              "      <th>Label</th>\n",
              "    </tr>\n",
              "  </thead>\n",
              "  <tbody>\n",
              "    <tr>\n",
              "      <th>0</th>\n",
              "      <td>5.1</td>\n",
              "      <td>3.5</td>\n",
              "      <td>1.4</td>\n",
              "      <td>0.2</td>\n",
              "      <td>Iris-setosa</td>\n",
              "    </tr>\n",
              "    <tr>\n",
              "      <th>1</th>\n",
              "      <td>4.9</td>\n",
              "      <td>3.0</td>\n",
              "      <td>1.4</td>\n",
              "      <td>0.2</td>\n",
              "      <td>Iris-setosa</td>\n",
              "    </tr>\n",
              "    <tr>\n",
              "      <th>2</th>\n",
              "      <td>4.7</td>\n",
              "      <td>3.2</td>\n",
              "      <td>1.3</td>\n",
              "      <td>0.2</td>\n",
              "      <td>Iris-setosa</td>\n",
              "    </tr>\n",
              "    <tr>\n",
              "      <th>3</th>\n",
              "      <td>4.6</td>\n",
              "      <td>3.1</td>\n",
              "      <td>1.5</td>\n",
              "      <td>0.2</td>\n",
              "      <td>Iris-setosa</td>\n",
              "    </tr>\n",
              "    <tr>\n",
              "      <th>4</th>\n",
              "      <td>5.0</td>\n",
              "      <td>3.6</td>\n",
              "      <td>1.4</td>\n",
              "      <td>0.2</td>\n",
              "      <td>Iris-setosa</td>\n",
              "    </tr>\n",
              "  </tbody>\n",
              "</table>\n",
              "</div>"
            ],
            "text/plain": [
              "   Sepal Length  Sepal Width  Petal Length  Petal Width        Label\n",
              "0           5.1          3.5           1.4          0.2  Iris-setosa\n",
              "1           4.9          3.0           1.4          0.2  Iris-setosa\n",
              "2           4.7          3.2           1.3          0.2  Iris-setosa\n",
              "3           4.6          3.1           1.5          0.2  Iris-setosa\n",
              "4           5.0          3.6           1.4          0.2  Iris-setosa"
            ]
          },
          "metadata": {
            "tags": []
          },
          "execution_count": 4
        }
      ]
    },
    {
      "cell_type": "code",
      "metadata": {
        "id": "RSrEGD37SVs4"
      },
      "source": [
        "# Prepare data matrix and labels\n",
        "\n",
        "import numpy as np\n",
        "from sklearn.preprocessing import LabelEncoder\n",
        "\n",
        "feat_idx = [2,3]\n",
        "feat_labels = df.columns[feat_idx]\n",
        "X = df.iloc[:, feat_idx].values\n",
        "y = df.iloc[:, 4].values\n",
        "enc_y = LabelEncoder()\n",
        "enc_y.fit(y)\n",
        "y = enc_y.transform(y)\n",
        "feature_names = df.columns.values[[2,3]]\n",
        "\n",
        "from sklearn.model_selection import train_test_split\n",
        "\n",
        "X_train, X_test, y_train, y_test = train_test_split(\n",
        "    X, y, test_size=0.3, random_state=0)\n",
        "X_train, X_val, y_train, y_val = train_test_split(\n",
        "    X_train, y_train, test_size=0.3, random_state=0)\n",
        "\n",
        "from sklearn.preprocessing import StandardScaler\n",
        "sc = StandardScaler()\n",
        "sc.fit(X_train)\n",
        "X_train_std = sc.transform(X_train)\n",
        "X_val_std = sc.transform(X_val)\n",
        "X_test_std = sc.transform(X_test)"
      ],
      "execution_count": 5,
      "outputs": []
    },
    {
      "cell_type": "markdown",
      "metadata": {
        "id": "v2naPL9uSVs5"
      },
      "source": [
        "---\n",
        "## Support Vector Machine (SVM)\n"
      ]
    },
    {
      "cell_type": "code",
      "metadata": {
        "colab": {
          "base_uri": "https://localhost:8080/",
          "height": 331
        },
        "id": "XzVZrkNTSVs5",
        "outputId": "77a97896-d4d4-42bf-8639-969302e47e8c"
      },
      "source": [
        "from sklearn.svm import SVC\n",
        "import matplotlib.pyplot as plt\n",
        "from sklearn.metrics import accuracy_score\n",
        "\n",
        "svm = SVC(decision_function_shape='ovr', kernel='linear', C=10.0)\n",
        "\n",
        "svm.fit(X_train_std, y_train)           # standardization is recommended for numerical reasons here\n",
        "\n",
        "plot_decision_regions(X_train_std,           \n",
        "                      y_train,\n",
        "                      classifier=svm)\n",
        "plt.xlabel('petal length [standardized]')\n",
        "plt.ylabel('petal width [standardized]')\n",
        "plt.legend(loc='upper left')\n",
        "plt.tight_layout()\n",
        "plt.show()\n",
        "\n",
        "print('Train accuracy: %f' % accuracy_score(svm.predict(X_train_std), y_train))\n",
        "print('Test accuracy: %f' % accuracy_score(svm.predict(X_test_std), y_test))"
      ],
      "execution_count": 6,
      "outputs": [
        {
          "output_type": "display_data",
          "data": {
            "image/png": "[encoded data removed]",
            "text/plain": [
              "<Figure size 432x288 with 1 Axes>"
            ]
          },
          "metadata": {
            "tags": [],
            "needs_background": "light"
          }
        },
        {
          "output_type": "stream",
          "text": [
            "Train accuracy: 0.945205\n",
            "Test accuracy: 0.977778\n"
          ],
          "name": "stdout"
        }
      ]
    },
    {
      "cell_type": "markdown",
      "metadata": {
        "id": "KWOOGnfASVs5"
      },
      "source": [
        "### Feature Importance"
      ]
    },
    {
      "cell_type": "markdown",
      "metadata": {
        "id": "S-TDuAeWSVs5"
      },
      "source": [
        "- Linear models (logistic regression, linear SVM, perceptron, ...)\n",
        "  - Prediction for an input $x^{(i)}$ is produced by $\\hat y^{(i)} = f(w^T x^{(i)})$, where $f$ is some function, e.g., to convert linear output to binary outcome.\n",
        "  - $w^T x^{(i)} = \\sum_{j=1}^p w_j x^{(i)}_j$ \n",
        "  - We call $w_1, w_2, \\dots, w_p$ as **coefficients**, **weights**, or **learning parameters**\n",
        "  - In scikit-learn, `<model>.coef_` contains the coefficients\n",
        "  \n",
        "- Non-linear models (decision trees, random forest, nonlinear SVM, ...)\n",
        "  - This type of models provides other ways to measure feature importance\n",
        "    - DT, RF: `<model>.feature_importances_`\n",
        "  - In some models, it is not easy to extract feature importance\n",
        "    - Nonlinear SVM"
      ]
    },
    {
      "cell_type": "code",
      "metadata": {
        "colab": {
          "base_uri": "https://localhost:8080/",
          "height": 190
        },
        "id": "8zBFis3iSVs6",
        "outputId": "c8d59c71-3e97-4cb9-934f-7acca05d8b81"
      },
      "source": [
        "print(svm.coef_)\n",
        "\n",
        "imporant_feat = pd.DataFrame(np.abs(svm.coef_))\n",
        "imporant_feat.columns = feat_labels\n",
        "imporant_feat"
      ],
      "execution_count": 7,
      "outputs": [
        {
          "output_type": "stream",
          "text": [
            "[[-1.06139348 -1.1489091 ]\n",
            " [-0.57330686 -0.57625103]\n",
            " [-2.65965384 -4.01574174]]\n"
          ],
          "name": "stdout"
        },
        {
          "output_type": "execute_result",
          "data": {
            "text/html": [
              "<div>\n",
              "<style scoped>\n",
              "    .dataframe tbody tr th:only-of-type {\n",
              "        vertical-align: middle;\n",
              "    }\n",
              "\n",
              "    .dataframe tbody tr th {\n",
              "        vertical-align: top;\n",
              "    }\n",
              "\n",
              "    .dataframe thead th {\n",
              "        text-align: right;\n",
              "    }\n",
              "</style>\n",
              "<table border=\"1\" class=\"dataframe\">\n",
              "  <thead>\n",
              "    <tr style=\"text-align: right;\">\n",
              "      <th></th>\n",
              "      <th>Petal Length</th>\n",
              "      <th>Petal Width</th>\n",
              "    </tr>\n",
              "  </thead>\n",
              "  <tbody>\n",
              "    <tr>\n",
              "      <th>0</th>\n",
              "      <td>1.061393</td>\n",
              "      <td>1.148909</td>\n",
              "    </tr>\n",
              "    <tr>\n",
              "      <th>1</th>\n",
              "      <td>0.573307</td>\n",
              "      <td>0.576251</td>\n",
              "    </tr>\n",
              "    <tr>\n",
              "      <th>2</th>\n",
              "      <td>2.659654</td>\n",
              "      <td>4.015742</td>\n",
              "    </tr>\n",
              "  </tbody>\n",
              "</table>\n",
              "</div>"
            ],
            "text/plain": [
              "   Petal Length  Petal Width\n",
              "0      1.061393     1.148909\n",
              "1      0.573307     0.576251\n",
              "2      2.659654     4.015742"
            ]
          },
          "metadata": {
            "tags": []
          },
          "execution_count": 7
        }
      ]
    },
    {
      "cell_type": "markdown",
      "metadata": {
        "id": "avSnqmwBSVs6"
      },
      "source": [
        "---\n",
        "## Nonlinear Classification"
      ]
    },
    {
      "cell_type": "markdown",
      "metadata": {
        "id": "aD_kLroZSVs6"
      },
      "source": [
        "### XOR Toy Data"
      ]
    },
    {
      "cell_type": "code",
      "metadata": {
        "colab": {
          "base_uri": "https://localhost:8080/",
          "height": 298
        },
        "id": "Ag0ipjE4SVs6",
        "outputId": "4ae00612-808a-47b9-ad47-e3a13295ec05"
      },
      "source": [
        "import matplotlib.pyplot as plt\n",
        "import numpy as np\n",
        "\n",
        "np.random.seed(1)\n",
        "X_xor = np.random.randn(200, 2)\n",
        "y_xor = np.logical_xor(X_xor[:, 0] > 0,\n",
        "                       X_xor[:, 1] > 0)\n",
        "y_xor = np.where(y_xor, 1, -1)\n",
        "\n",
        "plt.scatter(X_xor[y_xor == 1, 0],\n",
        "            X_xor[y_xor == 1, 1],\n",
        "            c='b', marker='x',\n",
        "            label='1')\n",
        "plt.scatter(X_xor[y_xor == -1, 0],\n",
        "            X_xor[y_xor == -1, 1],\n",
        "            c='r',\n",
        "            marker='s',\n",
        "            label='-1')\n",
        "\n",
        "plt.xlim([-3, 3])\n",
        "plt.ylim([-3, 3])\n",
        "plt.legend(loc='best')\n",
        "plt.tight_layout()\n",
        "plt.show()"
      ],
      "execution_count": 8,
      "outputs": [
        {
          "output_type": "display_data",
          "data": {
            "image/png": "[encoded data removed]",
            "text/plain": [
              "<Figure size 432x288 with 1 Axes>"
            ]
          },
          "metadata": {
            "tags": [],
            "needs_background": "light"
          }
        }
      ]
    },
    {
      "cell_type": "markdown",
      "metadata": {
        "id": "z4LYF1o_SVs7"
      },
      "source": [
        "### SVM on XOR data"
      ]
    },
    {
      "cell_type": "code",
      "metadata": {
        "colab": {
          "base_uri": "https://localhost:8080/",
          "height": 298
        },
        "id": "Bl2rI-GcSVs7",
        "outputId": "1cd74b9b-0e93-4b19-cad7-bb657de3ccb7"
      },
      "source": [
        "#\n",
        "# SVM on XOR data\n",
        "#\n",
        "svm = SVC(kernel='rbf', random_state=1, gamma=250, C=10)\n",
        "svm.fit(X_xor, y_xor)\n",
        "plot_decision_regions(X_xor, y_xor,\n",
        "                      classifier=svm)\n",
        "\n",
        "plt.legend(loc='upper left')\n",
        "plt.tight_layout()\n",
        "plt.show()"
      ],
      "execution_count": 13,
      "outputs": [
        {
          "output_type": "display_data",
          "data": {
            "image/png": "[encoded data removed]",
            "text/plain": [
              "<Figure size 432x288 with 1 Axes>"
            ]
          },
          "metadata": {
            "tags": [],
            "needs_background": "light"
          }
        }
      ]
    },
    {
      "cell_type": "markdown",
      "metadata": {
        "id": "hzUtq_PgSVs7"
      },
      "source": [
        "### Support Vectors"
      ]
    },
    {
      "cell_type": "code",
      "metadata": {
        "colab": {
          "base_uri": "https://localhost:8080/"
        },
        "id": "nGkWGd42SVs8",
        "outputId": "78b761bf-3a1e-4200-a1b0-6e4c54c81001"
      },
      "source": [
        "svm.support_\n",
        "#svm.support_vectors_\n",
        "#svm.n_support_"
      ],
      "execution_count": 14,
      "outputs": [
        {
          "output_type": "execute_result",
          "data": {
            "text/plain": [
              "array([  1,   6,   9,  11,  13,  15,  16,  17,  19,  20,  23,  24,  26,\n",
              "        28,  29,  33,  35,  36,  39,  40,  41,  42,  44,  45,  46,  47,\n",
              "        51,  58,  59,  60,  61,  63,  65,  69,  70,  71,  72,  73,  74,\n",
              "        75,  76,  78,  80,  83,  91,  92,  93,  95,  96,  98,  99, 102,\n",
              "       103, 105, 109, 110, 111, 113, 114, 115, 116, 117, 118, 120, 121,\n",
              "       125, 128, 132, 133, 135, 136, 137, 140, 141, 142, 143, 145, 147,\n",
              "       148, 151, 155, 157, 159, 160, 162, 165, 166, 168, 169, 173, 175,\n",
              "       177, 179, 184, 187, 190, 191, 193, 194,   0,   2,   3,   4,   5,\n",
              "         7,  10,  12,  14,  18,  21,  22,  25,  27,  30,  31,  32,  34,\n",
              "        37,  38,  43,  48,  49,  50,  52,  53,  54,  55,  56,  57,  62,\n",
              "        64,  66,  67,  68,  77,  79,  81,  82,  84,  85,  86,  87,  88,\n",
              "        89,  90,  94,  97, 100, 101, 104, 106, 107, 108, 112, 119, 122,\n",
              "       123, 124, 126, 127, 129, 130, 131, 134, 138, 139, 144, 146, 149,\n",
              "       150, 152, 153, 154, 156, 158, 161, 163, 164, 167, 170, 171, 172,\n",
              "       174, 176, 178, 180, 181, 182, 183, 185, 186, 188, 189, 192, 195,\n",
              "       196, 197, 198, 199], dtype=int32)"
            ]
          },
          "metadata": {
            "tags": []
          },
          "execution_count": 14
        }
      ]
    },
    {
      "cell_type": "code",
      "metadata": {
        "colab": {
          "base_uri": "https://localhost:8080/"
        },
        "id": "dJinDqjPSVs8",
        "outputId": "b04d0b99-fb90-48ec-c0a9-b02a11928b9f"
      },
      "source": [
        "svm.dual_coef_"
      ],
      "execution_count": 15,
      "outputs": [
        {
          "output_type": "execute_result",
          "data": {
            "text/plain": [
              "array([[-8.34932563e-01, -1.02317930e+00, -8.84092839e-01,\n",
              "        -1.02580855e+00, -8.77945155e-01, -9.38486913e-01,\n",
              "        -6.72441248e-01, -1.02564208e+00, -1.02618601e+00,\n",
              "        -8.20796050e-01, -1.02584507e+00, -8.69289086e-01,\n",
              "        -1.02606427e+00, -8.84372902e-01, -1.00058747e+00,\n",
              "        -1.02593921e+00, -9.79180222e-01, -8.17556896e-01,\n",
              "        -8.32234366e-01, -9.19359010e-01, -1.02526061e+00,\n",
              "        -9.47034578e-01, -8.15261089e-01, -1.02028744e+00,\n",
              "        -8.58376866e-01, -1.00329760e+00, -1.02549859e+00,\n",
              "        -1.02704565e+00, -7.55212950e-01, -1.11764691e+00,\n",
              "        -1.02576365e+00, -1.02490266e+00, -8.02125256e-01,\n",
              "        -6.80238771e-01, -1.09022389e-01, -1.02522494e+00,\n",
              "        -9.56078494e-01, -7.97759434e-04, -8.41705745e-01,\n",
              "        -1.02623065e+00, -1.02575352e+00, -4.42715019e-01,\n",
              "        -8.34930352e-01, -1.02490170e+00, -1.02574270e+00,\n",
              "        -8.09425333e-01, -8.49482669e-01, -4.59064314e-01,\n",
              "        -1.02591374e+00, -9.51407549e-01, -9.96021535e-01,\n",
              "        -1.02637807e+00, -1.02591348e+00, -1.02568900e+00,\n",
              "        -1.02338181e+00, -1.02481197e+00, -1.02272294e+00,\n",
              "        -9.99022846e-01, -1.02338687e+00, -7.04919449e-01,\n",
              "        -1.02606428e+00, -1.02634431e+00, -1.02569340e+00,\n",
              "        -1.00061769e+00, -1.02679149e+00, -1.00574867e+00,\n",
              "        -1.02592672e+00, -8.15810912e-01, -8.44524122e-01,\n",
              "        -1.02569245e+00, -9.18237393e-01, -6.89205091e-01,\n",
              "        -9.28226070e-01, -8.53020847e-01, -7.01151699e-01,\n",
              "        -7.03630392e-01, -9.65905605e-01, -1.01546935e+00,\n",
              "        -1.02437712e+00, -6.06874811e-01, -8.50308453e-01,\n",
              "        -1.02638757e+00, -5.76636706e-01, -9.25535370e-01,\n",
              "        -1.02395638e+00, -1.02588386e+00, -1.02631590e+00,\n",
              "        -1.02612442e+00, -1.02621692e+00, -6.50354156e-02,\n",
              "        -1.02583592e+00, -1.00416275e+00, -8.58239496e-01,\n",
              "        -8.06475284e-01, -1.02592009e+00, -6.80648642e-01,\n",
              "        -9.78935843e-01, -7.32024528e-01, -1.02576424e+00,\n",
              "         9.73663595e-01,  9.74225214e-01,  9.73926598e-01,\n",
              "         8.15164885e-01,  9.74231276e-01,  9.73976320e-01,\n",
              "         9.74355486e-01,  9.53122249e-01,  8.19895626e-01,\n",
              "         7.80266614e-01,  9.73933639e-01,  6.94739530e-01,\n",
              "         7.65959715e-01,  8.13588461e-01,  7.95916339e-01,\n",
              "         9.53715780e-01,  6.24690754e-01,  9.67709008e-01,\n",
              "         9.74205761e-01,  8.27418472e-01,  9.74432193e-01,\n",
              "         7.96484557e-01,  9.73812470e-01,  7.20091391e-01,\n",
              "         6.22434403e-01,  9.67772875e-01,  8.27641750e-01,\n",
              "         9.02001874e-01,  9.67218888e-01,  9.73233028e-01,\n",
              "         9.73986988e-01,  5.80622699e-01,  9.74058004e-01,\n",
              "         9.52643643e-01,  7.36969912e-01,  5.66756160e-01,\n",
              "         9.74397616e-01,  6.49382457e-01,  8.11508123e-01,\n",
              "         9.73990922e-01,  8.89553138e-01,  9.73849624e-01,\n",
              "         9.50951769e-01,  9.74264280e-01,  9.45358818e-01,\n",
              "         9.01912659e-01,  9.72603491e-01,  9.74327586e-01,\n",
              "         8.86410560e-01,  9.74017314e-01,  9.74438965e-01,\n",
              "         9.74065092e-01,  5.82137767e-01,  3.43109502e-01,\n",
              "         9.74113485e-01,  9.65093786e-01,  9.59380958e-01,\n",
              "         6.28413779e-01,  9.74080230e-01,  9.74072247e-01,\n",
              "         9.72674126e-01,  8.88753338e-01,  9.75467764e-01,\n",
              "         7.33599810e-01,  8.74046477e-01,  9.74284025e-01,\n",
              "         9.74265960e-01,  8.93475866e-01,  8.85805961e-01,\n",
              "         9.59130618e-01,  9.67407120e-01,  9.74072563e-01,\n",
              "         9.20144745e-01,  9.69076735e-01,  7.89379017e-01,\n",
              "         9.65602557e-01,  8.73669815e-01,  7.95555794e-01,\n",
              "         9.74055146e-01,  7.88278831e-01,  7.20565995e-01,\n",
              "         9.71906374e-01,  1.05713532e+00,  7.35175231e-01,\n",
              "         8.20515150e-01,  9.39502508e-01,  8.89630653e-01,\n",
              "         9.73944023e-01,  8.30733765e-01,  9.74073297e-01,\n",
              "         9.73581319e-01,  7.58019935e-01,  9.74016802e-01,\n",
              "         9.65476144e-01,  9.40706182e-01,  9.74191140e-01,\n",
              "         9.72071231e-01,  9.73929989e-01,  9.73985195e-01,\n",
              "         9.74050027e-01]])"
            ]
          },
          "metadata": {
            "tags": []
          },
          "execution_count": 15
        }
      ]
    },
    {
      "cell_type": "markdown",
      "metadata": {
        "id": "pfiCXxYYSVs8"
      },
      "source": [
        "### SVM on IRIS data"
      ]
    },
    {
      "cell_type": "code",
      "metadata": {
        "id": "B8Nhz8JESVs8",
        "outputId": "a2d71957-6a54-46e6-b41f-f7f9130f25c9"
      },
      "source": [
        "\n",
        "from sklearn.svm import SVC\n",
        "\n",
        "svm = SVC(kernel='rbf', gamma=0.2, C=1.0)  # gamma=100.0, C=1.0\n",
        "svm.fit(X_train_std, y_train)\n",
        "\n",
        "plot_decision_regions(X_train_std, y_train, classifier=svm)\n",
        "plt.xlabel('petal length [standardized]')\n",
        "plt.ylabel('petal width [standardized]')\n",
        "plt.legend(loc='upper left')\n",
        "plt.tight_layout()\n",
        "plt.show()\n",
        "\n",
        "print('Train accuracy: %f' % accuracy_score(svm.predict(X_train_std), y_train))\n",
        "print('Test accuracy: %f' % accuracy_score(svm.predict(X_test_std), y_test))"
      ],
      "execution_count": null,
      "outputs": [
        {
          "output_type": "display_data",
          "data": {
            "image/png": "[encoded data removed]",
            "text/plain": [
              "<Figure size 432x288 with 1 Axes>"
            ]
          },
          "metadata": {
            "tags": [],
            "needs_background": "light"
          }
        },
        {
          "output_type": "stream",
          "text": [
            "Train accuracy: 0.945205\n",
            "Test accuracy: 0.977778\n"
          ],
          "name": "stdout"
        }
      ]
    },
    {
      "cell_type": "markdown",
      "metadata": {
        "id": "_i-pDMT5SVs9"
      },
      "source": [
        "---\n",
        "## K-Fold Cross Valiation (CV)"
      ]
    },
    {
      "cell_type": "markdown",
      "metadata": {
        "id": "Z13CwNDtUDlE"
      },
      "source": [
        "<img src=\"https://raw.githubusercontent.com/sanglee/BDS_WS/master/img/06_03.png?raw=true\" width=650>"
      ]
    },
    {
      "cell_type": "code",
      "metadata": {
        "id": "8kgu-kLfSVs9",
        "outputId": "87f12d7d-4d7b-4448-88fa-59950f035057"
      },
      "source": [
        "from sklearn.model_selection import cross_val_score\n",
        "\n",
        "C_grid = [0.1, 1, 10]\n",
        "cv_err = []\n",
        "\n",
        "for c in C_grid:\n",
        "    scores = cross_val_score(estimator=SVC(C=c),\n",
        "                             X=X_train,\n",
        "                             y=y_train,\n",
        "                             cv=5,\n",
        "                             scoring='accuracy',\n",
        "                             n_jobs=-1)  # no. cpu cores to use. -1 all cores\n",
        "    print('C = %f' % c)\n",
        "    print('CV accuracy scores:\\n %s' % scores)\n",
        "    print('CV accuracy: %.3f +/- %.3f' % (np.mean(scores), np.std(scores)))\n",
        "    print('--------------------------------------------------------------------')\n",
        "    cv_err.append(np.mean(scores))\n",
        "    \n",
        "best_idx = np.argmax(cv_err)\n",
        "print(best_idx)\n",
        "best_C = C_grid[best_idx]\n",
        "\n",
        "print('Best C due to CV: %f' % best_C)"
      ],
      "execution_count": null,
      "outputs": [
        {
          "output_type": "stream",
          "text": [
            "C = 0.100000\n",
            "CV accuracy scores:\n",
            " [1.         0.93333333 0.93333333 0.86666667 1.        ]\n",
            "CV accuracy: 0.947 +/- 0.050\n",
            "--------------------------------------------------------------------\n",
            "C = 1.000000\n",
            "CV accuracy scores:\n",
            " [1.         0.93333333 0.93333333 0.86666667 1.        ]\n",
            "CV accuracy: 0.947 +/- 0.050\n",
            "--------------------------------------------------------------------\n",
            "C = 10.000000\n",
            "CV accuracy scores:\n",
            " [1.         0.93333333 0.86666667 0.86666667 1.        ]\n",
            "CV accuracy: 0.933 +/- 0.060\n",
            "--------------------------------------------------------------------\n",
            "0\n",
            "Best C due to CV: 0.100000\n"
          ],
          "name": "stdout"
        }
      ]
    },
    {
      "cell_type": "code",
      "metadata": {
        "id": "ukEn06emTzz-"
      },
      "source": [
        ""
      ],
      "execution_count": null,
      "outputs": []
    }
  ]
}