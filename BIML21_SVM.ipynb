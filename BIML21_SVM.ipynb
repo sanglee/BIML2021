{
  "nbformat": 4,
  "nbformat_minor": 0,
  "metadata": {
    "kernelspec": {
      "display_name": "Python 3",
      "language": "python",
      "name": "python3"
    },
    "language_info": {
      "codemirror_mode": {
        "name": "ipython",
        "version": 3
      },
      "file_extension": ".py",
      "mimetype": "text/x-python",
      "name": "python",
      "nbconvert_exporter": "python",
      "pygments_lexer": "ipython3",
      "version": "3.8.5"
    },
    "toc": {
      "base_numbering": 1,
      "nav_menu": {
        "height": "138px",
        "width": "252px"
      },
      "number_sections": false,
      "sideBar": true,
      "skip_h1_title": false,
      "title_cell": "Table of Contents",
      "title_sidebar": "Contents",
      "toc_cell": false,
      "toc_position": {},
      "toc_section_display": "block",
      "toc_window_display": true
    },
    "varInspector": {
      "cols": {
        "lenName": 16,
        "lenType": 16,
        "lenVar": 40
      },
      "kernels_config": {
        "python": {
          "delete_cmd_postfix": "",
          "delete_cmd_prefix": "del ",
          "library": "var_list.py",
          "varRefreshCmd": "print(var_dic_list())"
        },
        "r": {
          "delete_cmd_postfix": ") ",
          "delete_cmd_prefix": "rm(",
          "library": "var_list.r",
          "varRefreshCmd": "cat(var_dic_list()) "
        }
      },
      "types_to_exclude": [
        "module",
        "function",
        "builtin_function_or_method",
        "instance",
        "_Feature"
      ],
      "window_display": false
    },
    "colab": {
      "name": "BIML21_SVM.ipynb",
      "provenance": [],
      "include_colab_link": true
    }
  },
  "cells": [
    {
      "cell_type": "markdown",
      "metadata": {
        "id": "view-in-github",
        "colab_type": "text"
      },
      "source": [
        "<a href=\"https://colab.research.google.com/github/sanglee/BIML2021/blob/main/BIML21_SVM.ipynb\" target=\"_parent\"><img src=\"https://colab.research.google.com/assets/colab-badge.svg\" alt=\"Open In Colab\"/></a>"
      ]
    },
    {
      "cell_type": "markdown",
      "metadata": {
        "id": "YRQDBkpquEHL"
      },
      "source": [
        "## BIML 2021 (Introduction to SVM)\n",
        "\n",
        "@author: Sangkyun Lee  (sangkyun@korea.ac.kr)\n",
        "\n"
      ]
    },
    {
      "cell_type": "markdown",
      "metadata": {
        "id": "D-DuceN7uEHN"
      },
      "source": [
        "### Supplementary Notes\n",
        "---"
      ]
    },
    {
      "cell_type": "code",
      "metadata": {
        "id": "7kGFolicuEHN"
      },
      "source": [
        "# A utility function to plot decision boundaries in 2D\n",
        "\n",
        "from matplotlib.colors import ListedColormap\n",
        "\n",
        "def plot_decision_regions(X, y, classifier, test_idx=None, resolution=0.02):\n",
        "\n",
        "    # setup marker generator and color map\n",
        "    markers = ('s', 'x', 'o', '^', 'v')\n",
        "    colors = ('red', 'blue', 'lightgreen', 'gray', 'cyan')\n",
        "    cmap = ListedColormap(colors[:len(np.unique(y))])\n",
        "\n",
        "    # plot the decision surface\n",
        "    x1_min, x1_max = X[:, 0].min() - 1, X[:, 0].max() + 1\n",
        "    x2_min, x2_max = X[:, 1].min() - 1, X[:, 1].max() + 1\n",
        "    xx1, xx2 = np.meshgrid(np.arange(x1_min, x1_max, resolution),\n",
        "                           np.arange(x2_min, x2_max, resolution))\n",
        "    Z = classifier.predict(np.array([xx1.ravel(), xx2.ravel()]).T)\n",
        "    Z = Z.reshape(xx1.shape)\n",
        "    plt.contourf(xx1, xx2, Z, alpha=0.4, cmap=cmap)\n",
        "    plt.xlim(xx1.min(), xx1.max())\n",
        "    plt.ylim(xx2.min(), xx2.max())\n",
        "\n",
        "    for idx, cl in enumerate(np.unique(y)):\n",
        "        plt.scatter(x=X[y == cl, 0], \n",
        "                    y=X[y == cl, 1],\n",
        "                    alpha=0.6, \n",
        "                    c=[cmap(idx)]*sum(y == cl),\n",
        "                    edgecolor='black',\n",
        "                    marker=markers[idx], \n",
        "                    label=cl)\n",
        "\n",
        "    # highlight test samples\n",
        "    if test_idx:\n",
        "        # plot all samples\n",
        "        if not versiontuple(np.__version__) >= versiontuple('1.9.0'):\n",
        "            X_test, y_test = X[list(test_idx), :], y[list(test_idx)]\n",
        "            warnings.warn('Please update to NumPy 1.9.0 or newer')\n",
        "        else:\n",
        "            X_test, y_test = X[test_idx, :], y[test_idx]\n",
        "\n",
        "        plt.scatter(X_test[:, 0],\n",
        "                    X_test[:, 1],\n",
        "                    c='',\n",
        "                    alpha=1.0,\n",
        "                    edgecolor='black',\n",
        "                    linewidths=1,\n",
        "                    marker='o',\n",
        "                    s=55, label='test set')"
      ],
      "execution_count": null,
      "outputs": []
    },
    {
      "cell_type": "markdown",
      "metadata": {
        "id": "at6p5B_CuEHN"
      },
      "source": [
        "---\n",
        "### Loading the IRIS data"
      ]
    },
    {
      "cell_type": "code",
      "metadata": {
        "id": "toDAWeY5uEHO"
      },
      "source": [
        "import pandas as pd\n",
        "\n",
        "df = pd.read_csv('https://archive.ics.uci.edu/ml/'\n",
        "        'machine-learning-databases/iris/iris.data', names= ['Sepal Length', 'Sepal Width', 'Petal Length', 'Petal Width', 'Label'])"
      ],
      "execution_count": null,
      "outputs": []
    },
    {
      "cell_type": "code",
      "metadata": {
        "id": "9NWgFsxSuEHO",
        "outputId": "922572d2-4acd-4c5a-f40a-ee6487151560"
      },
      "source": [
        "df.head()"
      ],
      "execution_count": null,
      "outputs": [
        {
          "output_type": "execute_result",
          "data": {
            "text/html": [
              "<div>\n",
              "<style scoped>\n",
              "    .dataframe tbody tr th:only-of-type {\n",
              "        vertical-align: middle;\n",
              "    }\n",
              "\n",
              "    .dataframe tbody tr th {\n",
              "        vertical-align: top;\n",
              "    }\n",
              "\n",
              "    .dataframe thead th {\n",
              "        text-align: right;\n",
              "    }\n",
              "</style>\n",
              "<table border=\"1\" class=\"dataframe\">\n",
              "  <thead>\n",
              "    <tr style=\"text-align: right;\">\n",
              "      <th></th>\n",
              "      <th>Sepal Length</th>\n",
              "      <th>Sepal Width</th>\n",
              "      <th>Petal Length</th>\n",
              "      <th>Petal Width</th>\n",
              "      <th>Label</th>\n",
              "    </tr>\n",
              "  </thead>\n",
              "  <tbody>\n",
              "    <tr>\n",
              "      <th>0</th>\n",
              "      <td>5.1</td>\n",
              "      <td>3.5</td>\n",
              "      <td>1.4</td>\n",
              "      <td>0.2</td>\n",
              "      <td>Iris-setosa</td>\n",
              "    </tr>\n",
              "    <tr>\n",
              "      <th>1</th>\n",
              "      <td>4.9</td>\n",
              "      <td>3.0</td>\n",
              "      <td>1.4</td>\n",
              "      <td>0.2</td>\n",
              "      <td>Iris-setosa</td>\n",
              "    </tr>\n",
              "    <tr>\n",
              "      <th>2</th>\n",
              "      <td>4.7</td>\n",
              "      <td>3.2</td>\n",
              "      <td>1.3</td>\n",
              "      <td>0.2</td>\n",
              "      <td>Iris-setosa</td>\n",
              "    </tr>\n",
              "    <tr>\n",
              "      <th>3</th>\n",
              "      <td>4.6</td>\n",
              "      <td>3.1</td>\n",
              "      <td>1.5</td>\n",
              "      <td>0.2</td>\n",
              "      <td>Iris-setosa</td>\n",
              "    </tr>\n",
              "    <tr>\n",
              "      <th>4</th>\n",
              "      <td>5.0</td>\n",
              "      <td>3.6</td>\n",
              "      <td>1.4</td>\n",
              "      <td>0.2</td>\n",
              "      <td>Iris-setosa</td>\n",
              "    </tr>\n",
              "  </tbody>\n",
              "</table>\n",
              "</div>"
            ],
            "text/plain": [
              "   Sepal Length  Sepal Width  Petal Length  Petal Width        Label\n",
              "0           5.1          3.5           1.4          0.2  Iris-setosa\n",
              "1           4.9          3.0           1.4          0.2  Iris-setosa\n",
              "2           4.7          3.2           1.3          0.2  Iris-setosa\n",
              "3           4.6          3.1           1.5          0.2  Iris-setosa\n",
              "4           5.0          3.6           1.4          0.2  Iris-setosa"
            ]
          },
          "metadata": {
            "tags": []
          },
          "execution_count": 3
        }
      ]
    },
    {
      "cell_type": "code",
      "metadata": {
        "id": "T9ws3bOpuEHO"
      },
      "source": [
        "# Prepare data matrix and labels\n",
        "\n",
        "import numpy as np\n",
        "from sklearn.preprocessing import LabelEncoder\n",
        "\n",
        "feat_idx = [2,3]\n",
        "feat_labels = df.columns[feat_idx]\n",
        "X = df.iloc[:, feat_idx].values\n",
        "y = df.iloc[:, 4].values\n",
        "enc_y = LabelEncoder()\n",
        "enc_y.fit(y)\n",
        "y = enc_y.transform(y)\n",
        "feature_names = df.columns.values[feat_idx]\n",
        "\n",
        "from sklearn.model_selection import train_test_split\n",
        "\n",
        "X_train, X_test, y_train, y_test = train_test_split(\n",
        "    X, y, test_size=0.3, random_state=0)\n",
        "X_train, X_val, y_train, y_val = train_test_split(\n",
        "    X_train, y_train, test_size=0.3, random_state=0)\n",
        "\n",
        "from sklearn.preprocessing import StandardScaler\n",
        "sc = StandardScaler()\n",
        "sc.fit(X_train)\n",
        "X_train_std = sc.transform(X_train)\n",
        "X_val_std = sc.transform(X_val)\n",
        "X_test_std = sc.transform(X_test)"
      ],
      "execution_count": null,
      "outputs": []
    },
    {
      "cell_type": "markdown",
      "metadata": {
        "id": "_9T9h_6ZuEHP"
      },
      "source": [
        "---\n",
        "## Support Vector Machine (SVM)\n"
      ]
    },
    {
      "cell_type": "markdown",
      "metadata": {
        "id": "35LOl79BuEHP"
      },
      "source": [
        "### Multi-class Classification"
      ]
    },
    {
      "cell_type": "code",
      "metadata": {
        "id": "Ed8zetryuEHP",
        "outputId": "d3375584-bcad-4d87-aa3b-049c38213e08"
      },
      "source": [
        "from sklearn.svm import SVC\n",
        "X = np.random.randn(4, 1)\n",
        "y = [1,2,3,4]\n",
        "\n",
        "svm = SVC(decision_function_shape='ovr', kernel='linear', C=10.0)\n",
        "svm.fit(X, y)\n",
        "\n",
        "dec = svm.decision_function([X[0,:]])\n",
        "print(\"No. of classifiers in OVR:\", dec.shape[1])\n",
        "\n",
        "svm = SVC(decision_function_shape='ovo', kernel='linear', C=10.0)\n",
        "svm.fit(X, y)\n",
        "\n",
        "dec = svm.decision_function([X[0,:]])\n",
        "print(\"No. of classifiers in OVO:\", dec.shape[1])"
      ],
      "execution_count": null,
      "outputs": [
        {
          "output_type": "stream",
          "text": [
            "No. of classifiers in OVR: 4\n",
            "No. of classifiers in OVO: 6\n"
          ],
          "name": "stdout"
        }
      ]
    },
    {
      "cell_type": "markdown",
      "metadata": {
        "id": "mpt19NqluEHP"
      },
      "source": [
        "### Linear SVM on IRIS dataset"
      ]
    },
    {
      "cell_type": "code",
      "metadata": {
        "id": "NCGpw0JZuEHQ",
        "outputId": "0e76229b-e45c-4353-c1e1-dc9cb58bf05d"
      },
      "source": [
        "from sklearn.svm import SVC\n",
        "import matplotlib.pyplot as plt\n",
        "from sklearn.metrics import accuracy_score\n",
        "\n",
        "svm = SVC(decision_function_shape='ovr', kernel='linear', C=10.0)\n",
        "\n",
        "svm.fit(X_train_std, y_train)           # standardization is recommended for numerical reasons here\n",
        "\n",
        "plot_decision_regions(X_train_std,           \n",
        "                      y_train,\n",
        "                      classifier=svm)\n",
        "plt.xlabel('petal length [standardized]')\n",
        "plt.ylabel('petal width [standardized]')\n",
        "plt.legend(loc='upper left')\n",
        "plt.tight_layout()\n",
        "plt.show()\n",
        "\n",
        "print('Train accuracy: %f' % accuracy_score(svm.predict(X_train_std), y_train))\n",
        "print('Test accuracy: %f' % accuracy_score(svm.predict(X_test_std), y_test))"
      ],
      "execution_count": null,
      "outputs": [
        {
          "output_type": "display_data",
          "data": {
            "image/png": "[encoded data removed]",
            "text/plain": [
              "<Figure size 432x288 with 1 Axes>"
            ]
          },
          "metadata": {
            "tags": [],
            "needs_background": "light"
          }
        },
        {
          "output_type": "stream",
          "text": [
            "Train accuracy: 0.945205\n",
            "Test accuracy: 0.977778\n"
          ],
          "name": "stdout"
        }
      ]
    },
    {
      "cell_type": "markdown",
      "metadata": {
        "id": "R0iek3rZuEHQ"
      },
      "source": [
        "### Feature Importance"
      ]
    },
    {
      "cell_type": "markdown",
      "metadata": {
        "id": "phixqwFruEHQ"
      },
      "source": [
        "- Linear models (logistic regression, linear SVM, perceptron, ...)\n",
        "  - Prediction for an input $x^{(i)}$ is produced by $\\hat y^{(i)} = f(w^T x^{(i)})$, where $f$ is some function, e.g., to convert linear output to binary outcome.\n",
        "  - $w^T x^{(i)} = \\sum_{j=1}^p w_j x^{(i)}_j$ \n",
        "  - We call $w_1, w_2, \\dots, w_p$ as **coefficients**, **weights**, or **learning parameters**\n",
        "  - In scikit-learn, `<model>.coef_` contains the coefficients\n",
        "  \n",
        "- Non-linear models (decision trees, random forest, nonlinear SVM, ...)\n",
        "  - This type of models provides other ways to measure feature importance\n",
        "    - DT, RF: `<model>.feature_importances_`\n",
        "  - In some models, it is not easy to extract feature importance\n",
        "    - Nonlinear SVM"
      ]
    },
    {
      "cell_type": "code",
      "metadata": {
        "id": "eV0Smvu0uEHQ",
        "outputId": "9dbc3096-1973-4198-f46d-436c66034c98"
      },
      "source": [
        "print(svm.coef_)\n",
        "\n",
        "imporant_feat = pd.DataFrame(np.abs(svm.coef_))\n",
        "imporant_feat.columns = feat_labels\n",
        "imporant_feat"
      ],
      "execution_count": null,
      "outputs": [
        {
          "output_type": "stream",
          "text": [
            "[[-1.06139348 -1.1489091 ]\n",
            " [-0.57330686 -0.57625103]\n",
            " [-2.65965384 -4.01574174]]\n"
          ],
          "name": "stdout"
        },
        {
          "output_type": "execute_result",
          "data": {
            "text/html": [
              "<div>\n",
              "<style scoped>\n",
              "    .dataframe tbody tr th:only-of-type {\n",
              "        vertical-align: middle;\n",
              "    }\n",
              "\n",
              "    .dataframe tbody tr th {\n",
              "        vertical-align: top;\n",
              "    }\n",
              "\n",
              "    .dataframe thead th {\n",
              "        text-align: right;\n",
              "    }\n",
              "</style>\n",
              "<table border=\"1\" class=\"dataframe\">\n",
              "  <thead>\n",
              "    <tr style=\"text-align: right;\">\n",
              "      <th></th>\n",
              "      <th>Petal Length</th>\n",
              "      <th>Petal Width</th>\n",
              "    </tr>\n",
              "  </thead>\n",
              "  <tbody>\n",
              "    <tr>\n",
              "      <th>0</th>\n",
              "      <td>1.061393</td>\n",
              "      <td>1.148909</td>\n",
              "    </tr>\n",
              "    <tr>\n",
              "      <th>1</th>\n",
              "      <td>0.573307</td>\n",
              "      <td>0.576251</td>\n",
              "    </tr>\n",
              "    <tr>\n",
              "      <th>2</th>\n",
              "      <td>2.659654</td>\n",
              "      <td>4.015742</td>\n",
              "    </tr>\n",
              "  </tbody>\n",
              "</table>\n",
              "</div>"
            ],
            "text/plain": [
              "   Petal Length  Petal Width\n",
              "0      1.061393     1.148909\n",
              "1      0.573307     0.576251\n",
              "2      2.659654     4.015742"
            ]
          },
          "metadata": {
            "tags": []
          },
          "execution_count": 8
        }
      ]
    },
    {
      "cell_type": "markdown",
      "metadata": {
        "id": "7kmrVyskuEHR"
      },
      "source": [
        "---\n",
        "## Nonlinear Classification"
      ]
    },
    {
      "cell_type": "markdown",
      "metadata": {
        "id": "omnacMT7uEHR"
      },
      "source": [
        "### XOR Toy Data"
      ]
    },
    {
      "cell_type": "code",
      "metadata": {
        "id": "C_R5HyONuEHR",
        "outputId": "9e07e15b-e8d5-4d61-802e-9be352a62deb"
      },
      "source": [
        "import matplotlib.pyplot as plt\n",
        "import numpy as np\n",
        "\n",
        "np.random.seed(1)\n",
        "X_xor = np.random.randn(200, 2)\n",
        "y_xor = np.logical_xor(X_xor[:, 0] > 0,\n",
        "                       X_xor[:, 1] > 0)\n",
        "y_xor = np.where(y_xor, 1, -1)\n",
        "\n",
        "plt.scatter(X_xor[y_xor == 1, 0],\n",
        "            X_xor[y_xor == 1, 1],\n",
        "            c='b', marker='x',\n",
        "            label='1')\n",
        "plt.scatter(X_xor[y_xor == -1, 0],\n",
        "            X_xor[y_xor == -1, 1],\n",
        "            c='r',\n",
        "            marker='s',\n",
        "            label='-1')\n",
        "\n",
        "plt.xlim([-3, 3])\n",
        "plt.ylim([-3, 3])\n",
        "plt.legend(loc='best')\n",
        "plt.tight_layout()\n",
        "plt.show()"
      ],
      "execution_count": null,
      "outputs": [
        {
          "output_type": "display_data",
          "data": {
            "image/png": "[encoded data removed]",
            "text/plain": [
              "<Figure size 432x288 with 1 Axes>"
            ]
          },
          "metadata": {
            "tags": [],
            "needs_background": "light"
          }
        }
      ]
    },
    {
      "cell_type": "markdown",
      "metadata": {
        "id": "6yjCniceuEHR"
      },
      "source": [
        "### SVM on XOR data"
      ]
    },
    {
      "cell_type": "code",
      "metadata": {
        "id": "oR_30LF4uEHR",
        "outputId": "3a7bc750-fa9b-4682-b803-d0cf7d7cdd32"
      },
      "source": [
        "#\n",
        "# SVM on XOR data\n",
        "#\n",
        "svm = SVC(kernel='rbf', random_state=1, gamma=.1, C=10)\n",
        "svm.fit(X_xor, y_xor)\n",
        "plot_decision_regions(X_xor, y_xor,\n",
        "                      classifier=svm)\n",
        "\n",
        "plt.legend(loc='upper left')\n",
        "plt.tight_layout()\n",
        "plt.show()"
      ],
      "execution_count": null,
      "outputs": [
        {
          "output_type": "display_data",
          "data": {
            "image/png": "[encoded data removed]",
            "text/plain": [
              "<Figure size 432x288 with 1 Axes>"
            ]
          },
          "metadata": {
            "tags": [],
            "needs_background": "light"
          }
        }
      ]
    },
    {
      "cell_type": "markdown",
      "metadata": {
        "id": "oMkBTvR2uEHS"
      },
      "source": [
        "### Support Vectors"
      ]
    },
    {
      "cell_type": "code",
      "metadata": {
        "id": "gRv8ZK9luEHS",
        "outputId": "7e1420ce-b476-4ecb-f6b3-f963907937cf"
      },
      "source": [
        "print(svm.n_support_)\n",
        "svm.support_"
      ],
      "execution_count": null,
      "outputs": [
        {
          "output_type": "stream",
          "text": [
            "[46 46]\n"
          ],
          "name": "stdout"
        },
        {
          "output_type": "execute_result",
          "data": {
            "text/plain": [
              "array([  6,   8,   9,  13,  17,  20,  23,  24,  36,  40,  41,  42,  44,\n",
              "        45,  47,  58,  60,  65,  69,  70,  72,  73,  78,  92,  93, 109,\n",
              "       111, 113, 114, 115, 117, 120, 121, 125, 132, 133, 141, 142, 143,\n",
              "       145, 147, 160, 166, 173, 190, 193,   4,  14,  18,  22,  25,  27,\n",
              "        31,  32,  38,  43,  48,  52,  54,  77,  79,  81,  82,  86,  87,\n",
              "        89,  94, 100, 108, 123, 127, 129, 130, 131, 134, 139, 144, 146,\n",
              "       153, 158, 161, 164, 171, 172, 176, 178, 182, 185, 186, 192, 196,\n",
              "       199], dtype=int32)"
            ]
          },
          "metadata": {
            "tags": []
          },
          "execution_count": 11
        }
      ]
    },
    {
      "cell_type": "code",
      "metadata": {
        "id": "YxMoMV_duEHS"
      },
      "source": [
        "#svm.support_vectors_"
      ],
      "execution_count": null,
      "outputs": []
    },
    {
      "cell_type": "code",
      "metadata": {
        "id": "g88vt4NOuEHS",
        "outputId": "ec7cd931-131d-4f97-eebf-24133992950c"
      },
      "source": [
        "# shape: n_classes-1, n_SV\n",
        "svm.dual_coef_.shape"
      ],
      "execution_count": null,
      "outputs": [
        {
          "output_type": "execute_result",
          "data": {
            "text/plain": [
              "(1, 92)"
            ]
          },
          "metadata": {
            "tags": []
          },
          "execution_count": 13
        }
      ]
    },
    {
      "cell_type": "code",
      "metadata": {
        "id": "gszlODleuEHT",
        "outputId": "fe8ff098-71b1-4eb7-eb18-d7f69ce1fd54"
      },
      "source": [
        "svm.dual_coef_"
      ],
      "execution_count": null,
      "outputs": [
        {
          "output_type": "execute_result",
          "data": {
            "text/plain": [
              "array([[-10.        , -10.        , -10.        , -10.        ,\n",
              "        -10.        , -10.        ,  -7.99986544, -10.        ,\n",
              "        -10.        , -10.        , -10.        , -10.        ,\n",
              "        -10.        ,  -6.20496694, -10.        , -10.        ,\n",
              "        -10.        , -10.        , -10.        , -10.        ,\n",
              "        -10.        , -10.        , -10.        , -10.        ,\n",
              "        -10.        , -10.        , -10.        , -10.        ,\n",
              "        -10.        , -10.        , -10.        ,  -1.56513305,\n",
              "        -10.        , -10.        , -10.        , -10.        ,\n",
              "        -10.        , -10.        , -10.        , -10.        ,\n",
              "        -10.        , -10.        , -10.        , -10.        ,\n",
              "        -10.        , -10.        ,  10.        ,  10.        ,\n",
              "         10.        ,  10.        ,  10.        ,  10.        ,\n",
              "         10.        ,  10.        ,  10.        ,  10.        ,\n",
              "         10.        ,  10.        ,  10.        ,  10.        ,\n",
              "         10.        ,  10.        ,  10.        ,   1.23159626,\n",
              "         10.        ,  10.        ,  10.        ,  10.        ,\n",
              "         10.        ,  10.        ,   9.95761928,  10.        ,\n",
              "         10.        ,  10.        ,  10.        ,  10.        ,\n",
              "         10.        ,  10.        ,  10.        ,  10.        ,\n",
              "         10.        ,  10.        ,  10.        ,  10.        ,\n",
              "         10.        ,  10.        ,  10.        ,  10.        ,\n",
              "          4.58074989,  10.        ,  10.        ,  10.        ]])"
            ]
          },
          "metadata": {
            "tags": []
          },
          "execution_count": 14
        }
      ]
    },
    {
      "cell_type": "markdown",
      "metadata": {
        "id": "G50rfOmvuEHT"
      },
      "source": [
        "### SVM on IRIS data"
      ]
    },
    {
      "cell_type": "code",
      "metadata": {
        "id": "zUWDlVn2uEHT",
        "outputId": "d4dfc278-8e93-4bc4-9cba-6f06af38ff54"
      },
      "source": [
        "\n",
        "from sklearn.svm import SVC\n",
        "\n",
        "svm = SVC(kernel='rbf', gamma=0.2, C=1.0)  # gamma=100.0, C=1.0\n",
        "svm.fit(X_train_std, y_train)\n",
        "\n",
        "plot_decision_regions(X_train_std, y_train, classifier=svm)\n",
        "plt.xlabel('petal length [standardized]')\n",
        "plt.ylabel('petal width [standardized]')\n",
        "plt.legend(loc='upper left')\n",
        "plt.tight_layout()\n",
        "plt.show()\n",
        "\n",
        "print('Train accuracy: %f' % accuracy_score(svm.predict(X_train_std), y_train))\n",
        "print('Test accuracy: %f' % accuracy_score(svm.predict(X_test_std), y_test))"
      ],
      "execution_count": null,
      "outputs": [
        {
          "output_type": "display_data",
          "data": {
            "image/png": "[encoded data removed]",
            "text/plain": [
              "<Figure size 432x288 with 1 Axes>"
            ]
          },
          "metadata": {
            "tags": [],
            "needs_background": "light"
          }
        },
        {
          "output_type": "stream",
          "text": [
            "Train accuracy: 0.945205\n",
            "Test accuracy: 0.977778\n"
          ],
          "name": "stdout"
        }
      ]
    },
    {
      "cell_type": "markdown",
      "metadata": {
        "id": "JulKRqTiuEHT"
      },
      "source": [
        "### Support Vectors"
      ]
    },
    {
      "cell_type": "code",
      "metadata": {
        "id": "p_No6LlMuEHT",
        "outputId": "fca99b11-9674-49b8-9155-c5d89cc8f982"
      },
      "source": [
        "print(svm.n_support_)\n",
        "svm.support_"
      ],
      "execution_count": null,
      "outputs": [
        {
          "output_type": "stream",
          "text": [
            "[ 4 14 12]\n"
          ],
          "name": "stdout"
        },
        {
          "output_type": "execute_result",
          "data": {
            "text/plain": [
              "array([ 3, 24, 48, 50,  8, 15, 20, 22, 23, 37, 42, 49, 61, 62, 63, 65, 69,\n",
              "       70,  2, 10, 16, 27, 31, 32, 38, 43, 46, 59, 67, 68], dtype=int32)"
            ]
          },
          "metadata": {
            "tags": []
          },
          "execution_count": 16
        }
      ]
    },
    {
      "cell_type": "code",
      "metadata": {
        "id": "9mfTn_9UuEHT",
        "outputId": "490a909e-bb00-4935-d8fa-65d8412e9812"
      },
      "source": [
        "svm.support_vectors_"
      ],
      "execution_count": null,
      "outputs": [
        {
          "output_type": "execute_result",
          "data": {
            "text/plain": [
              "array([[-1.36607872, -1.50714415],\n",
              "       [-1.48176752, -1.23879897],\n",
              "       [-1.48176752, -1.23879897],\n",
              "       [-1.48176752, -1.37297156],\n",
              "       [ 0.3114089 , -0.03124567],\n",
              "       [ 0.25356449,  0.3712721 ],\n",
              "       [ 0.4270977 ,  0.63961727],\n",
              "       [-0.32487951, -0.43376344],\n",
              "       [ 0.25356449,  0.23709951],\n",
              "       [-0.61410151, -0.29959085],\n",
              "       [ 0.4849421 ,  0.23709951],\n",
              "       [ 0.19572009,  0.10292692],\n",
              "       [ 0.5427865 ,  0.50544468],\n",
              "       [-0.44056831, -0.43376344],\n",
              "       [ 0.4849421 ,  0.23709951],\n",
              "       [ 0.3114089 ,  0.10292692],\n",
              "       [ 0.13787569, -0.03124567],\n",
              "       [ 0.19572009,  0.10292692],\n",
              "       [ 1.0055417 ,  0.3712721 ],\n",
              "       [ 0.8320085 ,  0.63961727],\n",
              "       [ 0.6006309 ,  0.77378986],\n",
              "       [ 0.25356449,  0.50544468],\n",
              "       [ 0.6006309 ,  0.23709951],\n",
              "       [ 0.6006309 ,  0.63961727],\n",
              "       [ 0.6006309 ,  0.77378986],\n",
              "       [ 0.5427865 ,  0.90796245],\n",
              "       [ 1.6418301 ,  1.31048022],\n",
              "       [ 0.5427865 ,  0.77378986],\n",
              "       [ 0.4849421 ,  0.63961727],\n",
              "       [ 0.8898529 ,  0.63961727]])"
            ]
          },
          "metadata": {
            "tags": []
          },
          "execution_count": 17
        }
      ]
    },
    {
      "cell_type": "code",
      "metadata": {
        "id": "KImstdYNuEHU",
        "outputId": "4c3a1ea6-8995-4023-ac7e-7bcd3274044c"
      },
      "source": [
        "# shape: n_classes-1, n_SV\n",
        "svm.dual_coef_.shape"
      ],
      "execution_count": null,
      "outputs": [
        {
          "output_type": "execute_result",
          "data": {
            "text/plain": [
              "(2, 30)"
            ]
          },
          "metadata": {
            "tags": []
          },
          "execution_count": 18
        }
      ]
    },
    {
      "cell_type": "code",
      "metadata": {
        "id": "xPycuWjpuEHU",
        "outputId": "3f26760d-6f3a-4d6a-edb2-394fa57c86c0"
      },
      "source": [
        "svm.dual_coef_"
      ],
      "execution_count": null,
      "outputs": [
        {
          "output_type": "execute_result",
          "data": {
            "text/plain": [
              "array([[ 0.73389532,  1.        ,  1.        ,  0.26610468, -0.        ,\n",
              "        -0.        , -0.        , -1.        , -0.        , -1.        ,\n",
              "        -0.        , -0.        , -0.        , -1.        , -0.        ,\n",
              "        -0.        , -0.        , -0.        , -0.        , -0.        ,\n",
              "        -0.        , -1.        , -0.18002482, -0.        , -0.        ,\n",
              "        -0.        , -0.26007637, -0.        , -0.        , -0.        ],\n",
              "       [ 0.        ,  0.44313218,  0.99696901,  0.        ,  1.        ,\n",
              "         1.        ,  1.        ,  0.        ,  1.        ,  0.        ,\n",
              "         1.        ,  1.        ,  1.        ,  0.        ,  1.        ,\n",
              "         1.        ,  0.96307908,  1.        , -1.        , -1.        ,\n",
              "        -1.        , -1.        , -1.        , -1.        , -1.        ,\n",
              "        -0.96307908, -0.        , -1.        , -1.        , -1.        ]])"
            ]
          },
          "metadata": {
            "tags": []
          },
          "execution_count": 19
        }
      ]
    },
    {
      "cell_type": "markdown",
      "metadata": {
        "id": "t77yxiOouEHU"
      },
      "source": [
        "---\n",
        "## K-Fold Cross Valiation (CV)"
      ]
    },
    {
      "cell_type": "markdown",
      "metadata": {
        "id": "Ur6MERV-uEHU"
      },
      "source": [
        "<img src=\"https://raw.githubusercontent.com/sanglee/BDS_WS/master/img/06_03.png?raw=true\" width=650>"
      ]
    },
    {
      "cell_type": "code",
      "metadata": {
        "id": "mYJ2nbHvuEHU",
        "outputId": "870c0fee-64e9-4bdc-a698-600b139aa8dc"
      },
      "source": [
        "from sklearn.model_selection import cross_val_score\n",
        "\n",
        "C_grid = [0.1, 1, 10]\n",
        "cv_err = []\n",
        "\n",
        "for c in C_grid:\n",
        "    scores = cross_val_score(estimator=SVC(C=c),\n",
        "                             X=X_train,\n",
        "                             y=y_train,\n",
        "                             cv=5,\n",
        "                             scoring='accuracy',\n",
        "                             n_jobs=-1)  # no. cpu cores to use. -1 all cores\n",
        "    print('C = %f' % c)\n",
        "    print('CV accuracy scores:\\n %s' % scores)\n",
        "    print('CV accuracy: %.3f +/- %.3f' % (np.mean(scores), np.std(scores)))\n",
        "    print('--------------------------------------------------------------------')\n",
        "    cv_err.append(np.mean(scores))\n",
        "    \n",
        "best_idx = np.argmax(cv_err)\n",
        "print(best_idx)\n",
        "best_C = C_grid[best_idx]\n",
        "\n",
        "print('Best C due to CV: %f' % best_C)"
      ],
      "execution_count": null,
      "outputs": [
        {
          "output_type": "stream",
          "text": [
            "C = 0.100000\n",
            "CV accuracy scores:\n",
            " [0.8        0.86666667 0.86666667 0.85714286 0.85714286]\n",
            "CV accuracy: 0.850 +/- 0.025\n",
            "--------------------------------------------------------------------\n",
            "C = 1.000000\n",
            "CV accuracy scores:\n",
            " [1.         0.93333333 0.93333333 0.85714286 1.        ]\n",
            "CV accuracy: 0.945 +/- 0.053\n",
            "--------------------------------------------------------------------\n",
            "C = 10.000000\n",
            "CV accuracy scores:\n",
            " [1.         0.93333333 0.86666667 0.92857143 1.        ]\n",
            "CV accuracy: 0.946 +/- 0.050\n",
            "--------------------------------------------------------------------\n",
            "2\n",
            "Best C due to CV: 10.000000\n"
          ],
          "name": "stdout"
        }
      ]
    },
    {
      "cell_type": "code",
      "metadata": {
        "id": "vsyo4bivuEHV"
      },
      "source": [
        ""
      ],
      "execution_count": null,
      "outputs": []
    }
  ]
}