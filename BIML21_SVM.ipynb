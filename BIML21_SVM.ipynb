{
  "nbformat": 4,
  "nbformat_minor": 0,
  "metadata": {
    "kernelspec": {
      "display_name": "Python 3",
      "language": "python",
      "name": "python3"
    },
    "language_info": {
      "codemirror_mode": {
        "name": "ipython",
        "version": 3
      },
      "file_extension": ".py",
      "mimetype": "text/x-python",
      "name": "python",
      "nbconvert_exporter": "python",
      "pygments_lexer": "ipython3",
      "version": "3.6.8"
    },
    "toc": {
      "base_numbering": 1,
      "nav_menu": {
        "height": "138px",
        "width": "252px"
      },
      "number_sections": false,
      "sideBar": true,
      "skip_h1_title": false,
      "title_cell": "Table of Contents",
      "title_sidebar": "Contents",
      "toc_cell": false,
      "toc_position": {},
      "toc_section_display": "block",
      "toc_window_display": true
    },
    "varInspector": {
      "cols": {
        "lenName": 16,
        "lenType": 16,
        "lenVar": 40
      },
      "kernels_config": {
        "python": {
          "delete_cmd_postfix": "",
          "delete_cmd_prefix": "del ",
          "library": "var_list.py",
          "varRefreshCmd": "print(var_dic_list())"
        },
        "r": {
          "delete_cmd_postfix": ") ",
          "delete_cmd_prefix": "rm(",
          "library": "var_list.r",
          "varRefreshCmd": "cat(var_dic_list()) "
        }
      },
      "types_to_exclude": [
        "module",
        "function",
        "builtin_function_or_method",
        "instance",
        "_Feature"
      ],
      "window_display": false
    },
    "colab": {
      "name": "BIML21_SVM.ipynb",
      "provenance": [],
      "include_colab_link": true
    }
  },
  "cells": [
    {
      "cell_type": "markdown",
      "metadata": {
        "id": "view-in-github",
        "colab_type": "text"
      },
      "source": [
        "<a href=\"https://colab.research.google.com/github/sanglee/BIML2021/blob/main/BIML21_SVM.ipynb\" target=\"_parent\"><img src=\"https://colab.research.google.com/assets/colab-badge.svg\" alt=\"Open In Colab\"/></a>"
      ]
    },
    {
      "cell_type": "markdown",
      "metadata": {
        "id": "qwvRk1-3SVs2"
      },
      "source": [
        "## BIML 2021 (Introduction to SVM)\n",
        "\n",
        "@author: Sangkyun Lee  (sangkyun@korea.ac.kr)\n",
        "\n"
      ]
    },
    {
      "cell_type": "markdown",
      "metadata": {
        "id": "JlpGmnp9SVs3"
      },
      "source": [
        "### Supplementary Notes\n",
        "---"
      ]
    },
    {
      "cell_type": "code",
      "metadata": {
        "id": "ZzxZ4e6mSVs3"
      },
      "source": [
        "# A utility function to plot decision boundaries in 2D\n",
        "\n",
        "from matplotlib.colors import ListedColormap\n",
        "\n",
        "\n",
        "def plot_decision_regions(X, y, classifier, test_idx=None, resolution=0.02):\n",
        "\n",
        "    # setup marker generator and color map\n",
        "    markers = ('s', 'x', 'o', '^', 'v')\n",
        "    colors = ('red', 'blue', 'lightgreen', 'gray', 'cyan')\n",
        "    cmap = ListedColormap(colors[:len(np.unique(y))])\n",
        "\n",
        "    # plot the decision surface\n",
        "    x1_min, x1_max = X[:, 0].min() - 1, X[:, 0].max() + 1\n",
        "    x2_min, x2_max = X[:, 1].min() - 1, X[:, 1].max() + 1\n",
        "    xx1, xx2 = np.meshgrid(np.arange(x1_min, x1_max, resolution),\n",
        "                           np.arange(x2_min, x2_max, resolution))\n",
        "    Z = classifier.predict(np.array([xx1.ravel(), xx2.ravel()]).T)\n",
        "    Z = Z.reshape(xx1.shape)\n",
        "    plt.contourf(xx1, xx2, Z, alpha=0.4, cmap=cmap)\n",
        "    plt.xlim(xx1.min(), xx1.max())\n",
        "    plt.ylim(xx2.min(), xx2.max())\n",
        "\n",
        "    for idx, cl in enumerate(np.unique(y)):\n",
        "        plt.scatter(x=X[y == cl, 0], \n",
        "                    y=X[y == cl, 1],\n",
        "                    alpha=0.6, \n",
        "                    c=[cmap(idx)]*sum(y == cl),\n",
        "                    edgecolor='black',\n",
        "                    marker=markers[idx], \n",
        "                    label=cl)\n",
        "\n",
        "    # highlight test samples\n",
        "    if test_idx:\n",
        "        # plot all samples\n",
        "        if not versiontuple(np.__version__) >= versiontuple('1.9.0'):\n",
        "            X_test, y_test = X[list(test_idx), :], y[list(test_idx)]\n",
        "            warnings.warn('Please update to NumPy 1.9.0 or newer')\n",
        "        else:\n",
        "            X_test, y_test = X[test_idx, :], y[test_idx]\n",
        "\n",
        "        plt.scatter(X_test[:, 0],\n",
        "                    X_test[:, 1],\n",
        "                    c='',\n",
        "                    alpha=1.0,\n",
        "                    edgecolor='black',\n",
        "                    linewidths=1,\n",
        "                    marker='o',\n",
        "                    s=55, label='test set')"
      ],
      "execution_count": null,
      "outputs": []
    },
    {
      "cell_type": "markdown",
      "metadata": {
        "id": "8h_-HYctSVs4"
      },
      "source": [
        "---\n",
        "### Loading the IRIS data"
      ]
    },
    {
      "cell_type": "code",
      "metadata": {
        "id": "4P_8-CUHSVs4"
      },
      "source": [
        "import pandas as pd\n",
        "\n",
        "df = pd.read_csv('https://archive.ics.uci.edu/ml/'\n",
        "        'machine-learning-databases/iris/iris.data', names= ['Sepal Length', 'Sepal Width', 'Petal Length', 'Petal Width', 'Label'])"
      ],
      "execution_count": null,
      "outputs": []
    },
    {
      "cell_type": "code",
      "metadata": {
        "id": "VYYEshbRSVs4",
        "outputId": "94a6856d-f55e-4bca-d300-e23409a8ab27"
      },
      "source": [
        "df.head()"
      ],
      "execution_count": null,
      "outputs": [
        {
          "output_type": "execute_result",
          "data": {
            "text/html": [
              "<div>\n",
              "<style scoped>\n",
              "    .dataframe tbody tr th:only-of-type {\n",
              "        vertical-align: middle;\n",
              "    }\n",
              "\n",
              "    .dataframe tbody tr th {\n",
              "        vertical-align: top;\n",
              "    }\n",
              "\n",
              "    .dataframe thead th {\n",
              "        text-align: right;\n",
              "    }\n",
              "</style>\n",
              "<table border=\"1\" class=\"dataframe\">\n",
              "  <thead>\n",
              "    <tr style=\"text-align: right;\">\n",
              "      <th></th>\n",
              "      <th>Sepal Length</th>\n",
              "      <th>Sepal Width</th>\n",
              "      <th>Petal Length</th>\n",
              "      <th>Petal Width</th>\n",
              "      <th>Label</th>\n",
              "    </tr>\n",
              "  </thead>\n",
              "  <tbody>\n",
              "    <tr>\n",
              "      <th>0</th>\n",
              "      <td>5.1</td>\n",
              "      <td>3.5</td>\n",
              "      <td>1.4</td>\n",
              "      <td>0.2</td>\n",
              "      <td>Iris-setosa</td>\n",
              "    </tr>\n",
              "    <tr>\n",
              "      <th>1</th>\n",
              "      <td>4.9</td>\n",
              "      <td>3.0</td>\n",
              "      <td>1.4</td>\n",
              "      <td>0.2</td>\n",
              "      <td>Iris-setosa</td>\n",
              "    </tr>\n",
              "    <tr>\n",
              "      <th>2</th>\n",
              "      <td>4.7</td>\n",
              "      <td>3.2</td>\n",
              "      <td>1.3</td>\n",
              "      <td>0.2</td>\n",
              "      <td>Iris-setosa</td>\n",
              "    </tr>\n",
              "    <tr>\n",
              "      <th>3</th>\n",
              "      <td>4.6</td>\n",
              "      <td>3.1</td>\n",
              "      <td>1.5</td>\n",
              "      <td>0.2</td>\n",
              "      <td>Iris-setosa</td>\n",
              "    </tr>\n",
              "    <tr>\n",
              "      <th>4</th>\n",
              "      <td>5.0</td>\n",
              "      <td>3.6</td>\n",
              "      <td>1.4</td>\n",
              "      <td>0.2</td>\n",
              "      <td>Iris-setosa</td>\n",
              "    </tr>\n",
              "  </tbody>\n",
              "</table>\n",
              "</div>"
            ],
            "text/plain": [
              "   Sepal Length  Sepal Width  Petal Length  Petal Width        Label\n",
              "0           5.1          3.5           1.4          0.2  Iris-setosa\n",
              "1           4.9          3.0           1.4          0.2  Iris-setosa\n",
              "2           4.7          3.2           1.3          0.2  Iris-setosa\n",
              "3           4.6          3.1           1.5          0.2  Iris-setosa\n",
              "4           5.0          3.6           1.4          0.2  Iris-setosa"
            ]
          },
          "metadata": {
            "tags": []
          },
          "execution_count": 44
        }
      ]
    },
    {
      "cell_type": "code",
      "metadata": {
        "id": "RSrEGD37SVs4"
      },
      "source": [
        "# Prepare data matrix and labels\n",
        "\n",
        "import numpy as np\n",
        "from sklearn.preprocessing import LabelEncoder\n",
        "\n",
        "feat_idx = [2,3]\n",
        "feat_labels = df.columns[feat_idx]\n",
        "X = df.iloc[:, feat_idx].values\n",
        "y = df.iloc[:, 4].values\n",
        "enc_y = LabelEncoder()\n",
        "enc_y.fit(y)\n",
        "y = enc_y.transform(y)\n",
        "feature_names = df.columns.values[[2,3]]\n",
        "\n",
        "from sklearn.model_selection import train_test_split\n",
        "\n",
        "X_train, X_test, y_train, y_test = train_test_split(\n",
        "    X, y, test_size=0.3, random_state=0)\n",
        "X_train, X_val, y_train, y_val = train_test_split(\n",
        "    X_train, y_train, test_size=0.3, random_state=0)\n",
        "\n",
        "from sklearn.preprocessing import StandardScaler\n",
        "sc = StandardScaler()\n",
        "sc.fit(X_train)\n",
        "X_train_std = sc.transform(X_train)\n",
        "X_val_std = sc.transform(X_val)\n",
        "X_test_std = sc.transform(X_test)"
      ],
      "execution_count": null,
      "outputs": []
    },
    {
      "cell_type": "markdown",
      "metadata": {
        "id": "v2naPL9uSVs5"
      },
      "source": [
        "---\n",
        "## Support Vector Machine (SVM)\n"
      ]
    },
    {
      "cell_type": "code",
      "metadata": {
        "id": "XzVZrkNTSVs5",
        "outputId": "d5044670-af08-46bc-b4d3-6c4fe829d461"
      },
      "source": [
        "from sklearn.svm import SVC\n",
        "import matplotlib.pyplot as plt\n",
        "from sklearn.metrics import accuracy_score\n",
        "\n",
        "svm = SVC(decision_function_shape='ovr', kernel='linear', C=10.0)\n",
        "\n",
        "svm.fit(X_train_std, y_train)           # standardization is recommended for numerical reasons here\n",
        "\n",
        "plot_decision_regions(X_train_std,           \n",
        "                      y_train,\n",
        "                      classifier=svm)\n",
        "plt.xlabel('petal length [standardized]')\n",
        "plt.ylabel('petal width [standardized]')\n",
        "plt.legend(loc='upper left')\n",
        "plt.tight_layout()\n",
        "plt.show()\n",
        "\n",
        "print('Train accuracy: %f' % accuracy_score(svm.predict(X_train_std), y_train))\n",
        "print('Test accuracy: %f' % accuracy_score(svm.predict(X_test_std), y_test))"
      ],
      "execution_count": null,
      "outputs": [
        {
          "output_type": "display_data",
          "data": {
            "image/png": "[encoded data removed]",
            "text/plain": [
              "<Figure size 432x288 with 1 Axes>"
            ]
          },
          "metadata": {
            "tags": [],
            "needs_background": "light"
          }
        },
        {
          "output_type": "stream",
          "text": [
            "Train accuracy: 0.945205\n",
            "Test accuracy: 0.977778\n"
          ],
          "name": "stdout"
        }
      ]
    },
    {
      "cell_type": "markdown",
      "metadata": {
        "id": "KWOOGnfASVs5"
      },
      "source": [
        "### Feature Importance"
      ]
    },
    {
      "cell_type": "markdown",
      "metadata": {
        "id": "S-TDuAeWSVs5"
      },
      "source": [
        "- Linear models (logistic regression, linear SVM, perceptron, ...)\n",
        "  - Prediction for an input $x^{(i)}$ is produced by $\\hat y^{(i)} = f(w^T x^{(i)})$, where $f$ is some function, e.g., to convert linear output to binary outcome.\n",
        "  - $w^T x^{(i)} = \\sum_{j=1}^p w_j x^{(i)}_j$ \n",
        "  - We call $w_1, w_2, \\dots, w_p$ as **coefficients**, **weights**, or **learning parameters**\n",
        "  - In scikit-learn, `<model>.coef_` contains the coefficients\n",
        "  \n",
        "- Non-linear models (decision trees, random forest, nonlinear SVM, ...)\n",
        "  - This type of models provides other ways to measure feature importance\n",
        "    - DT, RF: `<model>.feature_importances_`\n",
        "  - In some models, it is not easy to extract feature importance\n",
        "    - Nonlinear SVM"
      ]
    },
    {
      "cell_type": "code",
      "metadata": {
        "id": "8zBFis3iSVs6",
        "outputId": "146b28f1-afe1-40ee-8d05-9046143289c0"
      },
      "source": [
        "print(svm.coef_)\n",
        "\n",
        "imporant_feat = pd.DataFrame(np.abs(svm.coef_))\n",
        "imporant_feat.columns = feat_labels\n",
        "imporant_feat"
      ],
      "execution_count": null,
      "outputs": [
        {
          "output_type": "stream",
          "text": [
            "[[-1.06139348 -1.1489091 ]\n",
            " [-0.57330686 -0.57625103]\n",
            " [-2.65965384 -4.01574174]]\n"
          ],
          "name": "stdout"
        },
        {
          "output_type": "execute_result",
          "data": {
            "text/html": [
              "<div>\n",
              "<style scoped>\n",
              "    .dataframe tbody tr th:only-of-type {\n",
              "        vertical-align: middle;\n",
              "    }\n",
              "\n",
              "    .dataframe tbody tr th {\n",
              "        vertical-align: top;\n",
              "    }\n",
              "\n",
              "    .dataframe thead th {\n",
              "        text-align: right;\n",
              "    }\n",
              "</style>\n",
              "<table border=\"1\" class=\"dataframe\">\n",
              "  <thead>\n",
              "    <tr style=\"text-align: right;\">\n",
              "      <th></th>\n",
              "      <th>Petal Length</th>\n",
              "      <th>Petal Width</th>\n",
              "    </tr>\n",
              "  </thead>\n",
              "  <tbody>\n",
              "    <tr>\n",
              "      <th>0</th>\n",
              "      <td>1.061393</td>\n",
              "      <td>1.148909</td>\n",
              "    </tr>\n",
              "    <tr>\n",
              "      <th>1</th>\n",
              "      <td>0.573307</td>\n",
              "      <td>0.576251</td>\n",
              "    </tr>\n",
              "    <tr>\n",
              "      <th>2</th>\n",
              "      <td>2.659654</td>\n",
              "      <td>4.015742</td>\n",
              "    </tr>\n",
              "  </tbody>\n",
              "</table>\n",
              "</div>"
            ],
            "text/plain": [
              "   Petal Length  Petal Width\n",
              "0      1.061393     1.148909\n",
              "1      0.573307     0.576251\n",
              "2      2.659654     4.015742"
            ]
          },
          "metadata": {
            "tags": []
          },
          "execution_count": 47
        }
      ]
    },
    {
      "cell_type": "markdown",
      "metadata": {
        "id": "avSnqmwBSVs6"
      },
      "source": [
        "---\n",
        "## Nonlinear Classification"
      ]
    },
    {
      "cell_type": "markdown",
      "metadata": {
        "id": "aD_kLroZSVs6"
      },
      "source": [
        "### XOR Toy Data"
      ]
    },
    {
      "cell_type": "code",
      "metadata": {
        "id": "Ag0ipjE4SVs6",
        "outputId": "44b461f3-338e-4c06-8981-29c9b3807fc3"
      },
      "source": [
        "import matplotlib.pyplot as plt\n",
        "import numpy as np\n",
        "\n",
        "np.random.seed(1)\n",
        "X_xor = np.random.randn(200, 2)\n",
        "y_xor = np.logical_xor(X_xor[:, 0] > 0,\n",
        "                       X_xor[:, 1] > 0)\n",
        "y_xor = np.where(y_xor, 1, -1)\n",
        "\n",
        "plt.scatter(X_xor[y_xor == 1, 0],\n",
        "            X_xor[y_xor == 1, 1],\n",
        "            c='b', marker='x',\n",
        "            label='1')\n",
        "plt.scatter(X_xor[y_xor == -1, 0],\n",
        "            X_xor[y_xor == -1, 1],\n",
        "            c='r',\n",
        "            marker='s',\n",
        "            label='-1')\n",
        "\n",
        "plt.xlim([-3, 3])\n",
        "plt.ylim([-3, 3])\n",
        "plt.legend(loc='best')\n",
        "plt.tight_layout()\n",
        "plt.show()"
      ],
      "execution_count": null,
      "outputs": [
        {
          "output_type": "display_data",
          "data": {
            "image/png": "[encoded data removed]",
            "text/plain": [
              "<Figure size 432x288 with 1 Axes>"
            ]
          },
          "metadata": {
            "tags": [],
            "needs_background": "light"
          }
        }
      ]
    },
    {
      "cell_type": "markdown",
      "metadata": {
        "id": "z4LYF1o_SVs7"
      },
      "source": [
        "### SVM on XOR data"
      ]
    },
    {
      "cell_type": "code",
      "metadata": {
        "id": "Bl2rI-GcSVs7",
        "outputId": "5b6a5e87-cc16-4cb0-c517-bde2cb78339c"
      },
      "source": [
        "#\n",
        "# SVM on XOR data\n",
        "#\n",
        "svm = SVC(kernel='rbf', random_state=1, gamma=.1, C=10)\n",
        "svm.fit(X_xor, y_xor)\n",
        "plot_decision_regions(X_xor, y_xor,\n",
        "                      classifier=svm)\n",
        "\n",
        "plt.legend(loc='upper left')\n",
        "plt.tight_layout()\n",
        "plt.show()"
      ],
      "execution_count": null,
      "outputs": [
        {
          "output_type": "display_data",
          "data": {
            "image/png": "[encoded data removed]",
            "text/plain": [
              "<Figure size 432x288 with 1 Axes>"
            ]
          },
          "metadata": {
            "tags": [],
            "needs_background": "light"
          }
        }
      ]
    },
    {
      "cell_type": "markdown",
      "metadata": {
        "id": "hzUtq_PgSVs7"
      },
      "source": [
        "### Support Vectors"
      ]
    },
    {
      "cell_type": "code",
      "metadata": {
        "id": "nGkWGd42SVs8",
        "outputId": "c44b5a41-3630-41aa-bd4d-cebefe3795ad"
      },
      "source": [
        "svm.support_\n",
        "#svm.support_vectors_\n",
        "#svm.n_support_"
      ],
      "execution_count": null,
      "outputs": [
        {
          "output_type": "execute_result",
          "data": {
            "text/plain": [
              "array([  6,   8,   9,  13,  17,  20,  23,  24,  36,  40,  41,  42,  44,\n",
              "        45,  47,  58,  60,  65,  69,  70,  72,  73,  78,  92,  93, 109,\n",
              "       111, 113, 114, 115, 117, 120, 121, 125, 132, 133, 141, 142, 143,\n",
              "       145, 147, 160, 166, 173, 190, 193,   4,  14,  18,  22,  25,  27,\n",
              "        31,  32,  38,  43,  48,  52,  54,  77,  79,  81,  82,  86,  87,\n",
              "        89,  94, 100, 108, 123, 127, 129, 130, 131, 134, 139, 144, 146,\n",
              "       153, 158, 161, 164, 171, 172, 176, 178, 182, 185, 186, 192, 196,\n",
              "       199], dtype=int32)"
            ]
          },
          "metadata": {
            "tags": []
          },
          "execution_count": 65
        }
      ]
    },
    {
      "cell_type": "code",
      "metadata": {
        "id": "dJinDqjPSVs8",
        "outputId": "1cc75833-a6c8-4257-eb0c-5c066c9ab1a6"
      },
      "source": [
        "svm.dual_coef_"
      ],
      "execution_count": null,
      "outputs": [
        {
          "output_type": "execute_result",
          "data": {
            "text/plain": [
              "array([[-10.        , -10.        , -10.        , -10.        ,\n",
              "        -10.        , -10.        ,  -7.99986544, -10.        ,\n",
              "        -10.        , -10.        , -10.        , -10.        ,\n",
              "        -10.        ,  -6.20496694, -10.        , -10.        ,\n",
              "        -10.        , -10.        , -10.        , -10.        ,\n",
              "        -10.        , -10.        , -10.        , -10.        ,\n",
              "        -10.        , -10.        , -10.        , -10.        ,\n",
              "        -10.        , -10.        , -10.        ,  -1.56513305,\n",
              "        -10.        , -10.        , -10.        , -10.        ,\n",
              "        -10.        , -10.        , -10.        , -10.        ,\n",
              "        -10.        , -10.        , -10.        , -10.        ,\n",
              "        -10.        , -10.        ,  10.        ,  10.        ,\n",
              "         10.        ,  10.        ,  10.        ,  10.        ,\n",
              "         10.        ,  10.        ,  10.        ,  10.        ,\n",
              "         10.        ,  10.        ,  10.        ,  10.        ,\n",
              "         10.        ,  10.        ,  10.        ,   1.23159626,\n",
              "         10.        ,  10.        ,  10.        ,  10.        ,\n",
              "         10.        ,  10.        ,   9.95761928,  10.        ,\n",
              "         10.        ,  10.        ,  10.        ,  10.        ,\n",
              "         10.        ,  10.        ,  10.        ,  10.        ,\n",
              "         10.        ,  10.        ,  10.        ,  10.        ,\n",
              "         10.        ,  10.        ,  10.        ,  10.        ,\n",
              "          4.58074989,  10.        ,  10.        ,  10.        ]])"
            ]
          },
          "metadata": {
            "tags": []
          },
          "execution_count": 66
        }
      ]
    },
    {
      "cell_type": "markdown",
      "metadata": {
        "id": "pfiCXxYYSVs8"
      },
      "source": [
        "### SVM on IRIS data"
      ]
    },
    {
      "cell_type": "code",
      "metadata": {
        "id": "B8Nhz8JESVs8",
        "outputId": "a2d71957-6a54-46e6-b41f-f7f9130f25c9"
      },
      "source": [
        "\n",
        "from sklearn.svm import SVC\n",
        "\n",
        "svm = SVC(kernel='rbf', gamma=0.2, C=1.0)  # gamma=100.0, C=1.0\n",
        "svm.fit(X_train_std, y_train)\n",
        "\n",
        "plot_decision_regions(X_train_std, y_train, classifier=svm)\n",
        "plt.xlabel('petal length [standardized]')\n",
        "plt.ylabel('petal width [standardized]')\n",
        "plt.legend(loc='upper left')\n",
        "plt.tight_layout()\n",
        "plt.show()\n",
        "\n",
        "print('Train accuracy: %f' % accuracy_score(svm.predict(X_train_std), y_train))\n",
        "print('Test accuracy: %f' % accuracy_score(svm.predict(X_test_std), y_test))"
      ],
      "execution_count": null,
      "outputs": [
        {
          "output_type": "display_data",
          "data": {
            "image/png": "[encoded data removed]",
            "text/plain": [
              "<Figure size 432x288 with 1 Axes>"
            ]
          },
          "metadata": {
            "tags": [],
            "needs_background": "light"
          }
        },
        {
          "output_type": "stream",
          "text": [
            "Train accuracy: 0.945205\n",
            "Test accuracy: 0.977778\n"
          ],
          "name": "stdout"
        }
      ]
    },
    {
      "cell_type": "markdown",
      "metadata": {
        "id": "_i-pDMT5SVs9"
      },
      "source": [
        "---\n",
        "## K-Fold Cross Valiation (CV)"
      ]
    },
    {
      "cell_type": "code",
      "metadata": {
        "id": "8kgu-kLfSVs9",
        "outputId": "87f12d7d-4d7b-4448-88fa-59950f035057"
      },
      "source": [
        "from sklearn.model_selection import cross_val_score\n",
        "\n",
        "C_grid = [0.1, 1, 10]\n",
        "cv_err = []\n",
        "\n",
        "for c in C_grid:\n",
        "    scores = cross_val_score(estimator=SVC(C=c),\n",
        "                             X=X_train,\n",
        "                             y=y_train,\n",
        "                             cv=5,\n",
        "                             scoring='accuracy',\n",
        "                             n_jobs=-1)  # no. cpu cores to use. -1 all cores\n",
        "    print('C = %f' % c)\n",
        "    print('CV accuracy scores:\\n %s' % scores)\n",
        "    print('CV accuracy: %.3f +/- %.3f' % (np.mean(scores), np.std(scores)))\n",
        "    print('--------------------------------------------------------------------')\n",
        "    cv_err.append(np.mean(scores))\n",
        "    \n",
        "best_idx = np.argmax(cv_err)\n",
        "print(best_idx)\n",
        "best_C = C_grid[best_idx]\n",
        "\n",
        "print('Best C due to CV: %f' % best_C)"
      ],
      "execution_count": null,
      "outputs": [
        {
          "output_type": "stream",
          "text": [
            "C = 0.100000\n",
            "CV accuracy scores:\n",
            " [1.         0.93333333 0.93333333 0.86666667 1.        ]\n",
            "CV accuracy: 0.947 +/- 0.050\n",
            "--------------------------------------------------------------------\n",
            "C = 1.000000\n",
            "CV accuracy scores:\n",
            " [1.         0.93333333 0.93333333 0.86666667 1.        ]\n",
            "CV accuracy: 0.947 +/- 0.050\n",
            "--------------------------------------------------------------------\n",
            "C = 10.000000\n",
            "CV accuracy scores:\n",
            " [1.         0.93333333 0.86666667 0.86666667 1.        ]\n",
            "CV accuracy: 0.933 +/- 0.060\n",
            "--------------------------------------------------------------------\n",
            "0\n",
            "Best C due to CV: 0.100000\n"
          ],
          "name": "stdout"
        }
      ]
    },
    {
      "cell_type": "code",
      "metadata": {
        "id": "Mnpl_73WSVs9"
      },
      "source": [
        ""
      ],
      "execution_count": null,
      "outputs": []
    }
  ]
}